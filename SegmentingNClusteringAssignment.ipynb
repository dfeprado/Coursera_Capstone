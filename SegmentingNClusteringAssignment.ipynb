{
 "cells": [
  {
   "cell_type": "markdown",
   "metadata": {},
   "source": [
    "# Striping wikipedia site to get Toronto neighbourhood"
   ]
  },
  {
   "cell_type": "markdown",
   "metadata": {},
   "source": [
    "## Getting the data from the website"
   ]
  },
  {
   "cell_type": "markdown",
   "metadata": {},
   "source": [
    "Importing needed packages"
   ]
  },
  {
   "cell_type": "code",
   "execution_count": 37,
   "metadata": {},
   "outputs": [],
   "source": [
    "# import needed packages\n",
    "import requests\n",
    "from bs4 import BeautifulSoup\n",
    "import pandas as pd"
   ]
  },
  {
   "cell_type": "markdown",
   "metadata": {},
   "source": [
    "Getting the page source code and initializing it into BeautifulSoup"
   ]
  },
  {
   "cell_type": "code",
   "execution_count": 5,
   "metadata": {
    "collapsed": true
   },
   "outputs": [
    {
     "name": "stderr",
     "output_type": "stream",
     "text": [
      "/opt/conda/envs/DSX-Python35/lib/python3.5/site-packages/bs4/__init__.py:181: UserWarning: No parser was explicitly specified, so I'm using the best available HTML parser for this system (\"lxml\"). This usually isn't a problem, but if you run this code on another system, or in a different virtual environment, it may use a different parser and behave differently.\n",
      "\n",
      "The code that caused this warning is on line 193 of the file /opt/conda/envs/DSX-Python35/lib/python3.5/runpy.py. To get rid of this warning, change code that looks like this:\n",
      "\n",
      " BeautifulSoup(YOUR_MARKUP})\n",
      "\n",
      "to this:\n",
      "\n",
      " BeautifulSoup(YOUR_MARKUP, \"lxml\")\n",
      "\n",
      "  markup_type=markup_type))\n"
     ]
    }
   ],
   "source": [
    "# setting variables\n",
    "page_url = 'https://en.wikipedia.org/wiki/List_of_postal_codes_of_Canada:_M'\n",
    "\n",
    "# getting page and using BeautifulSoup to read it\n",
    "page_html = requests.get(page_url).text\n",
    "page_resource = BeautifulSoup(page_html)"
   ]
  },
  {
   "cell_type": "markdown",
   "metadata": {},
   "source": [
    "Now, lets get the first (and unique) table of the page, loop through every row and collect the data into dictionaries.\n",
    "\n",
    "<div style=\"background-color:#ccc;padding:10px\">\n",
    "    <strong>Note:</strong> The first row is the header, so, for index == 0, cell's values will be assigned to another dictionary.\n",
    "</div>"
   ]
  },
  {
   "cell_type": "code",
   "execution_count": 220,
   "metadata": {},
   "outputs": [],
   "source": [
    "# getting the first table of the page (i.e., the table that contains the desired information)\n",
    "table_resource = page_resource.table\n",
    "\n",
    "# loop through all rows assigning it to a list\n",
    "dict_toLocationInfo = []\n",
    "dict_toLocationInfo_columns = []\n",
    "for index, row in enumerate(table_resource.find_all('tr')):\n",
    "    # data\n",
    "    if (index > 0):\n",
    "        row_info = []\n",
    "        for cell in row.find_all('td'):\n",
    "            row_info.append(cell.text.replace('\\n', ''))\n",
    "        dict_toLocationInfo.append(row_info)\n",
    "        \n",
    "    # headers/columns\n",
    "    else:\n",
    "        for cell in row.find_all('th'):\n",
    "            dict_toLocationInfo_columns.append(cell.text.replace('\\n', ''))"
   ]
  },
  {
   "cell_type": "markdown",
   "metadata": {},
   "source": [
    "Show a sample of data"
   ]
  },
  {
   "cell_type": "code",
   "execution_count": 224,
   "metadata": {},
   "outputs": [
    {
     "name": "stdout",
     "output_type": "stream",
     "text": [
      "Data sample: \n",
      " [['M1A', 'Not assigned', 'Not assigned'], ['M2A', 'Not assigned', 'Not assigned'], ['M3A', 'North York', 'Parkwoods'], ['M4A', 'North York', 'Victoria Village'], ['M5A', 'Downtown Toronto', 'Harbourfront'], ['M5A', 'Downtown Toronto', 'Regent Park'], ['M6A', 'North York', 'Lawrence Heights'], ['M6A', 'North York', 'Lawrence Manor'], ['M7A', \"Queen's Park\", 'Not assigned']]\n",
      "\n",
      "\n",
      "Columns: \n",
      " ['Postcode', 'Borough', 'Neighbourhood']\n"
     ]
    }
   ],
   "source": [
    "# showing samples\n",
    "print('Data sample: \\n',dict_toLocationInfo[0:9])\n",
    "print('\\n\\nColumns: \\n', dict_toLocationInfo_columns)"
   ]
  },
  {
   "cell_type": "code",
   "execution_count": 228,
   "metadata": {},
   "outputs": [
    {
     "name": "stdout",
     "output_type": "stream",
     "text": [
      "  Postcode           Borough     Neighbourhood\n",
      "0      M1A      Not assigned      Not assigned\n",
      "1      M2A      Not assigned      Not assigned\n",
      "2      M3A        North York         Parkwoods\n",
      "3      M4A        North York  Victoria Village\n",
      "4      M5A  Downtown Toronto      Harbourfront\n",
      "5      M5A  Downtown Toronto       Regent Park\n",
      "6      M6A        North York  Lawrence Heights\n",
      "7      M6A        North York    Lawrence Manor\n",
      "8      M7A      Queen's Park      Not assigned\n",
      "9      M8A      Not assigned      Not assigned\n"
     ]
    }
   ],
   "source": [
    "# merging data to Pandas DataFrame\n",
    "toPostalDf = pd.DataFrame(dict_toLocationInfo)\n",
    "toPostalDf.columns = dict_toLocationInfo_columns\n",
    "print(toPostalDf.head(10))\n",
    "\n",
    "# doing a backup\n",
    "toPostalDf.to_csv('toPostalDf.csv')"
   ]
  },
  {
   "cell_type": "markdown",
   "metadata": {},
   "source": [
    "## Cleaning the dataset  \n",
    "\n",
    "First, drop all lines with **Borough** equal to *Not assigned*"
   ]
  },
  {
   "cell_type": "code",
   "execution_count": 261,
   "metadata": {},
   "outputs": [
    {
     "data": {
      "text/plain": [
       "array(['North York', 'Downtown Toronto', \"Queen's Park\", 'Etobicoke',\n",
       "       'Scarborough', 'East York', 'York', 'East Toronto', 'West Toronto',\n",
       "       'Central Toronto', 'Mississauga'], dtype=object)"
      ]
     },
     "execution_count": 261,
     "metadata": {},
     "output_type": "execute_result"
    }
   ],
   "source": [
    "# cleaning the \"Not assigned\" entries\n",
    "toPostalDf = toPostalDf[toPostalDf['Borough'] != 'Not assigned']\n",
    "toPostalDf = toPostalDf.reset_index(drop=True)\n",
    "toPostalDf['Borough'].unique()"
   ]
  },
  {
   "cell_type": "markdown",
   "metadata": {},
   "source": [
    "Create a new dataframe with duplicated postcode"
   ]
  },
  {
   "cell_type": "code",
   "execution_count": 102,
   "metadata": {},
   "outputs": [],
   "source": [
    "toGroupedDf = toPostalDf.groupby(['Postcode']).count().reset_index()"
   ]
  },
  {
   "cell_type": "markdown",
   "metadata": {},
   "source": [
    "Turn the *Postcode* column of the original dataframe into a index"
   ]
  },
  {
   "cell_type": "code",
   "execution_count": 137,
   "metadata": {},
   "outputs": [
    {
     "data": {
      "text/html": [
       "<div>\n",
       "<style scoped>\n",
       "    .dataframe tbody tr th:only-of-type {\n",
       "        vertical-align: middle;\n",
       "    }\n",
       "\n",
       "    .dataframe tbody tr th {\n",
       "        vertical-align: top;\n",
       "    }\n",
       "\n",
       "    .dataframe thead th {\n",
       "        text-align: right;\n",
       "    }\n",
       "</style>\n",
       "<table border=\"1\" class=\"dataframe\">\n",
       "  <thead>\n",
       "    <tr style=\"text-align: right;\">\n",
       "      <th></th>\n",
       "      <th>Borough</th>\n",
       "      <th>Neighbourhood</th>\n",
       "    </tr>\n",
       "    <tr>\n",
       "      <th>Postcode</th>\n",
       "      <th></th>\n",
       "      <th></th>\n",
       "    </tr>\n",
       "  </thead>\n",
       "  <tbody>\n",
       "    <tr>\n",
       "      <th>M3A</th>\n",
       "      <td>North York</td>\n",
       "      <td>Parkwoods</td>\n",
       "    </tr>\n",
       "    <tr>\n",
       "      <th>M4A</th>\n",
       "      <td>North York</td>\n",
       "      <td>Victoria Village</td>\n",
       "    </tr>\n",
       "    <tr>\n",
       "      <th>M5A</th>\n",
       "      <td>Downtown Toronto</td>\n",
       "      <td>Harbourfront</td>\n",
       "    </tr>\n",
       "    <tr>\n",
       "      <th>M5A</th>\n",
       "      <td>Downtown Toronto</td>\n",
       "      <td>Regent Park</td>\n",
       "    </tr>\n",
       "    <tr>\n",
       "      <th>M6A</th>\n",
       "      <td>North York</td>\n",
       "      <td>Lawrence Heights</td>\n",
       "    </tr>\n",
       "  </tbody>\n",
       "</table>\n",
       "</div>"
      ],
      "text/plain": [
       "                   Borough     Neighbourhood\n",
       "Postcode                                    \n",
       "M3A             North York         Parkwoods\n",
       "M4A             North York  Victoria Village\n",
       "M5A       Downtown Toronto      Harbourfront\n",
       "M5A       Downtown Toronto       Regent Park\n",
       "M6A             North York  Lawrence Heights"
      ]
     },
     "execution_count": 137,
     "metadata": {},
     "output_type": "execute_result"
    }
   ],
   "source": [
    "toPostalDf.set_index('Postcode', inplace=True)\n",
    "toPostalDf.head()"
   ]
  },
  {
   "cell_type": "markdown",
   "metadata": {},
   "source": [
    "Now, for every postcode into grouped dataframe, join the neighbourhoods, drop rows in the (copy of) original dataframe that have the duplicated postcode and then insert new row with merged neighbourhoods"
   ]
  },
  {
   "cell_type": "code",
   "execution_count": 203,
   "metadata": {},
   "outputs": [
    {
     "data": {
      "text/html": [
       "<div>\n",
       "<style scoped>\n",
       "    .dataframe tbody tr th:only-of-type {\n",
       "        vertical-align: middle;\n",
       "    }\n",
       "\n",
       "    .dataframe tbody tr th {\n",
       "        vertical-align: top;\n",
       "    }\n",
       "\n",
       "    .dataframe thead th {\n",
       "        text-align: right;\n",
       "    }\n",
       "</style>\n",
       "<table border=\"1\" class=\"dataframe\">\n",
       "  <thead>\n",
       "    <tr style=\"text-align: right;\">\n",
       "      <th></th>\n",
       "      <th>index</th>\n",
       "      <th>Borough</th>\n",
       "      <th>Neighbourhood</th>\n",
       "    </tr>\n",
       "  </thead>\n",
       "  <tbody>\n",
       "    <tr>\n",
       "      <th>0</th>\n",
       "      <td>M1B</td>\n",
       "      <td>Scarborough</td>\n",
       "      <td>Rouge, Malvern</td>\n",
       "    </tr>\n",
       "    <tr>\n",
       "      <th>1</th>\n",
       "      <td>M1C</td>\n",
       "      <td>Scarborough</td>\n",
       "      <td>HighlandCreek, RougeHill, PortUnion</td>\n",
       "    </tr>\n",
       "    <tr>\n",
       "      <th>2</th>\n",
       "      <td>M1E</td>\n",
       "      <td>Scarborough</td>\n",
       "      <td>Guildwood, Morningside, WestHill</td>\n",
       "    </tr>\n",
       "    <tr>\n",
       "      <th>3</th>\n",
       "      <td>M1G</td>\n",
       "      <td>Scarborough</td>\n",
       "      <td>Woburn</td>\n",
       "    </tr>\n",
       "    <tr>\n",
       "      <th>4</th>\n",
       "      <td>M1H</td>\n",
       "      <td>Scarborough</td>\n",
       "      <td>Cedarbrae</td>\n",
       "    </tr>\n",
       "  </tbody>\n",
       "</table>\n",
       "</div>"
      ],
      "text/plain": [
       "  index      Borough                        Neighbourhood\n",
       "0   M1B  Scarborough                       Rouge, Malvern\n",
       "1   M1C  Scarborough  HighlandCreek, RougeHill, PortUnion\n",
       "2   M1E  Scarborough     Guildwood, Morningside, WestHill\n",
       "3   M1G  Scarborough                               Woburn\n",
       "4   M1H  Scarborough                            Cedarbrae"
      ]
     },
     "execution_count": 203,
     "metadata": {},
     "output_type": "execute_result"
    }
   ],
   "source": [
    "# remove duplicated Postalcode joining Neighbourhoods\n",
    "# make a copy\n",
    "toPostalDf2 = toPostalDf.copy()\n",
    "for postalcode in toGroupedDf['Postcode']:\n",
    "    # get neighbourhood and borough\n",
    "    neighbourhoods = toPostalDf2.loc[postalcode, 'Neighbourhood']\n",
    "    if (not isinstance(neighbourhoods, str)):\n",
    "        neighbourhoods = neighbourhoods.to_string(header=False, index=False).replace(' ', '').replace('\\n', ', ')\n",
    "    \n",
    "    # get borough\n",
    "    borough = toPostalDf2.loc[postalcode, 'Borough']\n",
    "    if (not isinstance(borough, str)):\n",
    "        borough = borough.unique()[0]\n",
    "    \n",
    "    # drop rows that have the duplicated entry\n",
    "    toPostalDf2.drop(index=postalcode, axis=0, inplace=True)\n",
    "    \n",
    "    # add new line with joined values\n",
    "    toPostalDf2 = toPostalDf2.append(pd.DataFrame({'Borough':borough, 'Neighbourhood': neighbourhoods}, index=[postalcode]))\n",
    "toPostalDf2.reset_index(inplace=True)\n",
    "toPostalDf2.head()"
   ]
  },
  {
   "cell_type": "markdown",
   "metadata": {},
   "source": [
    "Remove *Not assigned* from Neighbourhood making them equal to Borough"
   ]
  },
  {
   "cell_type": "code",
   "execution_count": 249,
   "metadata": {},
   "outputs": [],
   "source": [
    "# assign Borough label to neighbourhood that is 'Not assigned'\n",
    "toPostalDf2[toPostalDf2['Neighbourhood'] == 'Not assigned']\n",
    "toPostalDf2.loc[85, 'Neighbourhood'] = 'Queen\\' Park' # manual assign, just one Neighbourhood needs it"
   ]
  },
  {
   "cell_type": "markdown",
   "metadata": {},
   "source": [
    "Check if the original and copied dataframe has the same number of Postcode (integrity check)"
   ]
  },
  {
   "cell_type": "code",
   "execution_count": 262,
   "metadata": {},
   "outputs": [
    {
     "name": "stdout",
     "output_type": "stream",
     "text": [
      "Original dataframe postcode numbers:  103\n",
      "Preprocessed dataframe postcode Numbers:  103\n"
     ]
    }
   ],
   "source": [
    "# check integrity\n",
    "print('Original dataframe postcode numbers: ',len(toPostalDf['Postcode'].unique()))\n",
    "print('Preprocessed dataframe postcode Numbers: ', len(toPostalDf2['index'].unique()))"
   ]
  },
  {
   "cell_type": "code",
   "execution_count": 265,
   "metadata": {},
   "outputs": [],
   "source": [
    "# fixing columns into df2\n",
    "toPostalDf2.columns = dict_toLocationInfo_columns\n",
    "toPostalDf2.to_csv('toPostalDf2.csv')"
   ]
  },
  {
   "cell_type": "markdown",
   "metadata": {},
   "source": [
    "And print the shape of final dataframe"
   ]
  },
  {
   "cell_type": "code",
   "execution_count": 266,
   "metadata": {},
   "outputs": [
    {
     "name": "stdout",
     "output_type": "stream",
     "text": [
      "The shape of DataFrame is:  (103, 3)\n"
     ]
    }
   ],
   "source": [
    "# printing the shape\n",
    "print('The shape of DataFrame is: ', toPostalDf2.shape)"
   ]
  }
 ],
 "metadata": {
  "kernelspec": {
   "display_name": "Python 3.5",
   "language": "python",
   "name": "python3"
  },
  "language_info": {
   "codemirror_mode": {
    "name": "ipython",
    "version": 3
   },
   "file_extension": ".py",
   "mimetype": "text/x-python",
   "name": "python",
   "nbconvert_exporter": "python",
   "pygments_lexer": "ipython3",
   "version": "3.5.5"
  }
 },
 "nbformat": 4,
 "nbformat_minor": 1
}
